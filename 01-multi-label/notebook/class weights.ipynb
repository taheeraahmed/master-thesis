{
 "cells": [
  {
   "cell_type": "code",
   "execution_count": 1,
   "id": "c0437170",
   "metadata": {},
   "outputs": [
    {
     "name": "stderr",
     "output_type": "stream",
     "text": [
      "/cluster/home/taheeraa/.local/lib/python3.9/site-packages/pandas/core/computation/expressions.py:21: UserWarning: Pandas requires version '2.8.4' or newer of 'numexpr' (version '2.8.3' currently installed).\n",
      "  from pandas.core.computation.check import NUMEXPR_INSTALLED\n",
      "/cluster/home/taheeraa/.local/lib/python3.9/site-packages/pandas/core/arrays/masked.py:60: UserWarning: Pandas requires version '1.3.6' or newer of 'bottleneck' (version '1.3.5' currently installed).\n",
      "  from pandas.core import (\n"
     ]
    }
   ],
   "source": [
    "import sys\n",
    "import os\n",
    "import pandas as pd\n",
    "\n",
    "# Path to the src directory\n",
    "src_path = '/cluster/home/taheeraa/code/master-thesis/01-multi-label/src'\n",
    "\n",
    "if src_path not in sys.path:\n",
    "    sys.path.append(src_path)\n",
    "    \n",
    "from utils.handle_class_imbalance import generate_class_weights"
   ]
  },
  {
   "cell_type": "code",
   "execution_count": 2,
   "id": "726ffa66",
   "metadata": {},
   "outputs": [],
   "source": [
    "data_path = \"/cluster/home/taheeraa/datasets/chestxray-14\"\n",
    "labels = [\n",
    "    \"Atelectasis\", \n",
    "    \"Cardiomegaly\",\n",
    "    \"Effusion\", \n",
    "    \"Infiltration\", \n",
    "    \"Mass\",\n",
    "    \"Nodule\",\n",
    "    \"Pneumonia\",\n",
    "    \"Pneumothorax\",  \n",
    "    \"Consolidation\",\n",
    "    \"Edema\",\n",
    "    \"Emphysema\",\n",
    "    \"Fibrosis\",\n",
    "    \"Pleural_Thickening\",\n",
    "    \"Hernia\"\n",
    "]\n",
    "file_path_train = data_path + '/train_official.txt'\n",
    "file_path_val = data_path + '/val_official.txt'\n",
    "file_path_test = data_path + '/test_official.txt'\n",
    "\n",
    "columns = ['Image Filename'] + labels\n",
    "\n",
    "df_train = pd.read_csv(file_path_train, sep='\\s+', names=columns)\n",
    "df_val = pd.read_csv(file_path_val, sep='\\s+', names=columns)\n",
    "df_test = pd.read_csv(file_path_test, sep='\\s+', names=columns)\n",
    "\n",
    "# Finding all image paths, and mapping them to the DataFrame\n",
    "subfolders = [f\"images_{i:03}/images\" for i in range(1, 13)]  # Generates 'images_001' to 'images_012'\n",
    "path_mapping = {}\n",
    "for subfolder in subfolders:\n",
    "    full_folder_path = os.path.join(data_path, subfolder)\n",
    "    for img_file in os.listdir(full_folder_path):\n",
    "        path_mapping[img_file] = os.path.join(full_folder_path, img_file)\n",
    "\n",
    "# Update the DataFrame using the mapping\n",
    "df_train['Full Image Path'] = df_train['Image Filename'].map(path_mapping)\n",
    "df_val['Full Image Path'] = df_val['Image Filename'].map(path_mapping)\n",
    "df_test['Full Image Path'] = df_test['Image Filename'].map(path_mapping)\n",
    "\n",
    "# Move 'Full Image Path' to the front of the DataFrame\n",
    "cols_train = ['Full Image Path'] + [col for col in df_train.columns if col != 'Full Image Path']\n",
    "cols_val = ['Full Image Path'] + [col for col in df_val.columns if col != 'Full Image Path']\n",
    "cols_test = ['Full Image Path'] + [col for col in df_test.columns if col != 'Full Image Path']\n",
    "df_train = df_train[cols_train]\n",
    "df_val = df_val[cols_val]\n",
    "df_test = df_test[cols_test]\n",
    "\n",
    "# Drop 'Image Filename' column\n",
    "df_train = df_train.drop(columns=['Image Filename'])\n",
    "df_val = df_val.drop(columns=['Image Filename'])\n",
    "df_test = df_test.drop(columns=['Image Filename'])"
   ]
  },
  {
   "cell_type": "code",
   "execution_count": 10,
   "id": "8bde0a79",
   "metadata": {},
   "outputs": [
    {
     "data": {
      "text/plain": [
       "Index(['Full Image Path', 'Atelectasis', 'Cardiomegaly', 'Effusion',\n",
       "       'Infiltration', 'Mass', 'Nodule', 'Pneumonia', 'Pneumothorax',\n",
       "       'Consolidation', 'Edema', 'Emphysema', 'Fibrosis', 'Pleural_Thickening',\n",
       "       'Hernia'],\n",
       "      dtype='object')"
      ]
     },
     "execution_count": 10,
     "metadata": {},
     "output_type": "execute_result"
    }
   ],
   "source": [
    "df_train.columns"
   ]
  },
  {
   "cell_type": "code",
   "execution_count": 17,
   "id": "bb74feba",
   "metadata": {},
   "outputs": [],
   "source": [
    "df_train_calculate_weights = df_train.drop(columns=['Full Image Path']).to_numpy()"
   ]
  },
  {
   "cell_type": "code",
   "execution_count": 21,
   "id": "9123c894",
   "metadata": {},
   "outputs": [
    {
     "data": {
      "text/plain": [
       "{0: 0.7466243679984138,\n",
       " 1: 3.583896449985724,\n",
       " 2: 0.7032852100181163,\n",
       " 3: 0.446944879646774,\n",
       " 4: 1.5051562874730193,\n",
       " 5: 1.3249824067558058,\n",
       " 6: 6.986270871985158,\n",
       " 7: 2.397249809014515,\n",
       " 8: 2.1691244239631335,\n",
       " 9: 4.445808736717828,\n",
       " 10: 4.303542857142857,\n",
       " 11: 4.967154728927582,\n",
       " 12: 2.791607976870042,\n",
       " 13: 42.69387755102041}"
      ]
     },
     "execution_count": 21,
     "metadata": {},
     "output_type": "execute_result"
    }
   ],
   "source": [
    "class_weights"
   ]
  },
  {
   "cell_type": "code",
   "execution_count": 31,
   "id": "70206d0b",
   "metadata": {},
   "outputs": [
    {
     "data": {
      "text/plain": [
       "{'Atelectasis': 0.7466243679984138,\n",
       " 'Cardiomegaly': 3.583896449985724,\n",
       " 'Effusion': 0.7032852100181163,\n",
       " 'Infiltration': 0.446944879646774,\n",
       " 'Mass': 1.5051562874730193,\n",
       " 'Nodule': 1.3249824067558058,\n",
       " 'Pneumonia': 6.986270871985158,\n",
       " 'Pneumothorax': 2.397249809014515,\n",
       " 'Consolidation': 2.1691244239631335,\n",
       " 'Edema': 4.445808736717828,\n",
       " 'Emphysema': 4.303542857142857,\n",
       " 'Fibrosis': 4.967154728927582,\n",
       " 'Pleural_Thickening': 2.791607976870042,\n",
       " 'Hernia': 42.69387755102041}"
      ]
     },
     "execution_count": 31,
     "metadata": {},
     "output_type": "execute_result"
    }
   ],
   "source": [
    "class_weights_dict = generate_class_weights(df_train_calculate_weights, multi_class=False, one_hot_encoded=True)\n",
    "label_weights_dict = {labels[i]: class_weights_dict[i] for i in range(len(labels))}\n",
    "label_weights_dict"
   ]
  },
  {
   "cell_type": "code",
   "execution_count": 29,
   "id": "c591ecfa",
   "metadata": {},
   "outputs": [],
   "source": [
    "class_weights_list = [class_weights_dict[i] for i in class_weights_dict]\n",
    "class_weights_tensor = torch.tensor(class_weights_list, dtype=torch.float32)"
   ]
  },
  {
   "cell_type": "code",
   "execution_count": 30,
   "id": "f59e9bdd",
   "metadata": {
    "scrolled": true
   },
   "outputs": [],
   "source": [
    "import torch\n",
    "\n",
    "criterion = torch.nn.BCEWithLogitsLoss(weight=class_weights_tensor)"
   ]
  }
 ],
 "metadata": {
  "kernelspec": {
   "display_name": "Python 3 (ipykernel)",
   "language": "python",
   "name": "python3"
  },
  "language_info": {
   "codemirror_mode": {
    "name": "ipython",
    "version": 3
   },
   "file_extension": ".py",
   "mimetype": "text/x-python",
   "name": "python",
   "nbconvert_exporter": "python",
   "pygments_lexer": "ipython3",
   "version": "3.9.13"
  }
 },
 "nbformat": 4,
 "nbformat_minor": 5
}
